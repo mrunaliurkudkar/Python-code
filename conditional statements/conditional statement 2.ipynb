{
 "cells": [
  {
   "cell_type": "markdown",
   "id": "fa44c067",
   "metadata": {},
   "source": [
    "***A student will not allowed to sit in exam if his/her attendance is less than 75%.Take following input from user\n",
    "no of classes held, no of classes attended and print percentage of class attended. is studnet is allowed to sit in exam or not.***"
   ]
  },
  {
   "cell_type": "code",
   "execution_count": 2,
   "id": "46bcc582",
   "metadata": {},
   "outputs": [
    {
     "name": "stdout",
     "output_type": "stream",
     "text": [
      "number of classes held13\n",
      "number of classes attended78\n",
      "studnet is allowed to sit in exam\n"
     ]
    }
   ],
   "source": [
    "a=int(input('number of classes held'))\n",
    "b=int(input('number of classes attended'))\n",
    "percentage=b/a*100\n",
    "if percentage>=75:\n",
    "   print('studnet is allowed to sit in exam')\n",
    "else:\n",
    "    print('student is not allowed to sit in exam')"
   ]
  },
  {
   "cell_type": "code",
   "execution_count": null,
   "id": "49765530",
   "metadata": {},
   "outputs": [],
   "source": []
  }
 ],
 "metadata": {
  "kernelspec": {
   "display_name": "Python 3 (ipykernel)",
   "language": "python",
   "name": "python3"
  },
  "language_info": {
   "codemirror_mode": {
    "name": "ipython",
    "version": 3
   },
   "file_extension": ".py",
   "mimetype": "text/x-python",
   "name": "python",
   "nbconvert_exporter": "python",
   "pygments_lexer": "ipython3",
   "version": "3.9.12"
  }
 },
 "nbformat": 4,
 "nbformat_minor": 5
}
