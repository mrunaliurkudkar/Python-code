{
 "cells": [
  {
   "cell_type": "markdown",
   "id": "53e329a7",
   "metadata": {},
   "source": [
    "***write a program to print the following number pattern using loop\n",
    "a)1\n",
    "  12\n",
    "  123\n",
    "  1234\n",
    "  12345***"
   ]
  },
  {
   "cell_type": "code",
   "execution_count": 1,
   "id": "13316105",
   "metadata": {},
   "outputs": [
    {
     "name": "stdout",
     "output_type": "stream",
     "text": [
      "1\n",
      "12\n",
      "123\n",
      "1234\n",
      "12345\n"
     ]
    }
   ],
   "source": [
    "for i in range(1,6):\n",
    "    for j in range(1,i+1):\n",
    "        print(j,end='')\n",
    "    print()"
   ]
  },
  {
   "cell_type": "markdown",
   "id": "75f2f150",
   "metadata": {},
   "source": [
    "***write a program to print the pattern using loop\n",
    "b) 1\n",
    "   22\n",
    "   333\n",
    "   4444\n",
    "   55555***\n"
   ]
  },
  {
   "cell_type": "code",
   "execution_count": 2,
   "id": "39abcaa5",
   "metadata": {},
   "outputs": [
    {
     "name": "stdout",
     "output_type": "stream",
     "text": [
      "1\n",
      "22\n",
      "333\n",
      "4444\n",
      "55555\n"
     ]
    }
   ],
   "source": [
    "for i in range(1,6):\n",
    "    for j in range(1,i+1):\n",
    "        print(i,end='')\n",
    "    print()"
   ]
  },
  {
   "cell_type": "markdown",
   "id": "e9401b8e",
   "metadata": {},
   "source": [
    "***write a program to print the pattern using loop\n",
    "d)12345\n",
    "  1234\n",
    "  123\n",
    "  12 \n",
    "  1***"
   ]
  },
  {
   "cell_type": "code",
   "execution_count": 3,
   "id": "54f44a21",
   "metadata": {},
   "outputs": [
    {
     "name": "stdout",
     "output_type": "stream",
     "text": [
      "enter the number of rows5\n",
      "12345\n",
      "1234\n",
      "123\n",
      "12\n",
      "1\n"
     ]
    }
   ],
   "source": [
    "n=int(input('enter the number of rows'))\n",
    "for i in range(n,0,-1):\n",
    "    for j in range(1,i+1):\n",
    "        print(j,end='')\n",
    "    print()"
   ]
  },
  {
   "cell_type": "markdown",
   "id": "722e5661",
   "metadata": {},
   "source": [
    "***write a program to print the pattern using loop\n",
    "e)54321\n",
    "  4321\n",
    "  321\n",
    "  21 \n",
    "  1***"
   ]
  },
  {
   "cell_type": "code",
   "execution_count": 4,
   "id": "79ff15f2",
   "metadata": {},
   "outputs": [
    {
     "name": "stdout",
     "output_type": "stream",
     "text": [
      "enter the number of rows5\n",
      "54321\n",
      "4321\n",
      "321\n",
      "21\n",
      "1\n"
     ]
    }
   ],
   "source": [
    "n=int(input('enter the number of rows'))\n",
    "for i in range(n):\n",
    "    for j in range(n-i-1,-1,-1):\n",
    "        print(j+1,end='')\n",
    "    print()"
   ]
  }
 ],
 "metadata": {
  "kernelspec": {
   "display_name": "Python 3 (ipykernel)",
   "language": "python",
   "name": "python3"
  },
  "language_info": {
   "codemirror_mode": {
    "name": "ipython",
    "version": 3
   },
   "file_extension": ".py",
   "mimetype": "text/x-python",
   "name": "python",
   "nbconvert_exporter": "python",
   "pygments_lexer": "ipython3",
   "version": "3.9.12"
  }
 },
 "nbformat": 4,
 "nbformat_minor": 5
}
