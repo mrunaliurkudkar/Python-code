{
 "cells": [
  {
   "cell_type": "markdown",
   "id": "a1c3839b",
   "metadata": {},
   "source": [
    " **1. print'Hello Python' ten times**"
   ]
  },
  {
   "cell_type": "code",
   "execution_count": 1,
   "id": "4f58e1dd",
   "metadata": {},
   "outputs": [
    {
     "name": "stdout",
     "output_type": "stream",
     "text": [
      "Hello Python\n",
      "Hello Python\n",
      "Hello Python\n",
      "Hello Python\n",
      "Hello Python\n",
      "Hello Python\n",
      "Hello Python\n",
      "Hello Python\n",
      "Hello Python\n",
      "Hello Python\n"
     ]
    }
   ],
   "source": [
    "i=1\n",
    "while i<=10:\n",
    "    print('Hello Python')\n",
    "    i=i+1"
   ]
  },
  {
   "cell_type": "markdown",
   "id": "c293f160",
   "metadata": {},
   "source": [
    "**2. print number from 1 to 10**"
   ]
  },
  {
   "cell_type": "code",
   "execution_count": 2,
   "id": "7796303d",
   "metadata": {},
   "outputs": [
    {
     "name": "stdout",
     "output_type": "stream",
     "text": [
      "1\n",
      "2\n",
      "3\n",
      "4\n",
      "5\n",
      "6\n",
      "7\n",
      "8\n",
      "9\n",
      "10\n"
     ]
    }
   ],
   "source": [
    "i=1\n",
    "while i<=10:\n",
    "    print(i)\n",
    "    i=i+1"
   ]
  },
  {
   "cell_type": "markdown",
   "id": "dc1ad61b",
   "metadata": {},
   "source": [
    "**3. print sum of first ten number**"
   ]
  },
  {
   "cell_type": "code",
   "execution_count": 3,
   "id": "5d49a41d",
   "metadata": {},
   "outputs": [
    {
     "name": "stdout",
     "output_type": "stream",
     "text": [
      "55\n"
     ]
    }
   ],
   "source": [
    "i=1\n",
    "add=0\n",
    "while i<=10:\n",
    "    add=add+i\n",
    "    i=i+1\n",
    "print(add)\n"
   ]
  },
  {
   "cell_type": "markdown",
   "id": "21a1fda7",
   "metadata": {},
   "source": [
    "**4. print sum of n numbers**"
   ]
  },
  {
   "cell_type": "code",
   "execution_count": 4,
   "id": "534c40be",
   "metadata": {},
   "outputs": [
    {
     "name": "stdout",
     "output_type": "stream",
     "text": [
      "enter the number33\n",
      "1\n",
      "3\n",
      "6\n",
      "10\n",
      "15\n",
      "21\n",
      "28\n",
      "36\n",
      "45\n",
      "55\n",
      "66\n",
      "78\n",
      "91\n",
      "105\n",
      "120\n",
      "136\n",
      "153\n",
      "171\n",
      "190\n",
      "210\n",
      "231\n",
      "253\n",
      "276\n",
      "300\n",
      "325\n",
      "351\n",
      "378\n",
      "406\n",
      "435\n",
      "465\n",
      "496\n",
      "528\n",
      "561\n"
     ]
    }
   ],
   "source": [
    "i=1\n",
    "n=int(input('enter the number'))\n",
    "add=0\n",
    "while i<=n:\n",
    "    add=add+i\n",
    "    i=i+1\n",
    "    print(add)\n",
    "    "
   ]
  },
  {
   "cell_type": "markdown",
   "id": "0b4368e5",
   "metadata": {},
   "source": [
    "**5. calculate factorial of a number**"
   ]
  },
  {
   "cell_type": "code",
   "execution_count": 5,
   "id": "6a30c552",
   "metadata": {},
   "outputs": [
    {
     "name": "stdout",
     "output_type": "stream",
     "text": [
      "enter any number34\n",
      "1\n",
      "2\n",
      "17\n",
      "34\n"
     ]
    }
   ],
   "source": [
    "n=int(input('enter any number'))\n",
    "i=1\n",
    "count=0\n",
    "for i in range(1,n+1):\n",
    "    if n%i==0:\n",
    "        print(i)\n",
    "        i=i+1"
   ]
  },
  {
   "cell_type": "markdown",
   "id": "096caf13",
   "metadata": {},
   "source": [
    "***7. print reverse of a number***"
   ]
  },
  {
   "cell_type": "code",
   "execution_count": null,
   "id": "f4c1306c",
   "metadata": {},
   "outputs": [],
   "source": [
    "n=int(input('enter the number'))\n",
    "for i in range(n,0,-1):\n",
    "     print(i)"
   ]
  },
  {
   "cell_type": "markdown",
   "id": "f53f7566",
   "metadata": {},
   "source": [
    "***8. print sum of reverse number***"
   ]
  },
  {
   "cell_type": "code",
   "execution_count": 6,
   "id": "d0dd07d3",
   "metadata": {},
   "outputs": [
    {
     "name": "stdout",
     "output_type": "stream",
     "text": [
      "enter the number45\n",
      "sum of reverse of number 9\n"
     ]
    }
   ],
   "source": [
    "n=int(input('enter the number'))\n",
    "i=1\n",
    "sum=0\n",
    "for i in range(n):\n",
    "    rem=n%10\n",
    "    sum=sum+rem\n",
    "    n=n//10\n",
    "print('sum of reverse of number', sum)"
   ]
  },
  {
   "cell_type": "markdown",
   "id": "44561eb5",
   "metadata": {},
   "source": [
    "***9. cheak given number is palindrome or not***"
   ]
  },
  {
   "cell_type": "code",
   "execution_count": 7,
   "id": "6aba1874",
   "metadata": {},
   "outputs": [
    {
     "name": "stdout",
     "output_type": "stream",
     "text": [
      "enter the number23\n",
      "23 is palindrome\n"
     ]
    }
   ],
   "source": [
    "n=int(input('enter the number'))\n",
    "i = 1\n",
    "rev = 0\n",
    "org = n\n",
    "for i in range(n):\n",
    "    rem = n%10\n",
    "    rev = (rev*10)+rem\n",
    "    n = n//10\n",
    "    if n==0:\n",
    "        break\n",
    "    if org==rev:\n",
    "        print(org, 'is palindrome')\n",
    "    else:\n",
    "        print(org, 'is palindrome')"
   ]
  },
  {
   "cell_type": "markdown",
   "id": "68cc8eb2",
   "metadata": {},
   "source": [
    "***10. cube of all given numbebrs from 1 to n***"
   ]
  },
  {
   "cell_type": "code",
   "execution_count": 8,
   "id": "0abb1447",
   "metadata": {},
   "outputs": [
    {
     "name": "stdout",
     "output_type": "stream",
     "text": [
      "enter the number34\n",
      "cube of 1 \t: 1\n",
      "cube of 2 \t: 8\n",
      "cube of 3 \t: 27\n",
      "cube of 4 \t: 64\n",
      "cube of 5 \t: 125\n",
      "cube of 6 \t: 216\n",
      "cube of 7 \t: 343\n",
      "cube of 8 \t: 512\n",
      "cube of 9 \t: 729\n",
      "cube of 10 \t: 1000\n",
      "cube of 11 \t: 1331\n",
      "cube of 12 \t: 1728\n",
      "cube of 13 \t: 2197\n",
      "cube of 14 \t: 2744\n",
      "cube of 15 \t: 3375\n",
      "cube of 16 \t: 4096\n",
      "cube of 17 \t: 4913\n",
      "cube of 18 \t: 5832\n",
      "cube of 19 \t: 6859\n",
      "cube of 20 \t: 8000\n",
      "cube of 21 \t: 9261\n",
      "cube of 22 \t: 10648\n",
      "cube of 23 \t: 12167\n",
      "cube of 24 \t: 13824\n",
      "cube of 25 \t: 15625\n",
      "cube of 26 \t: 17576\n",
      "cube of 27 \t: 19683\n",
      "cube of 28 \t: 21952\n",
      "cube of 29 \t: 24389\n",
      "cube of 30 \t: 27000\n",
      "cube of 31 \t: 29791\n",
      "cube of 32 \t: 32768\n",
      "cube of 33 \t: 35937\n",
      "cube of 34 \t: 39304\n"
     ]
    }
   ],
   "source": [
    "n=int(input('enter the number'))\n",
    "for i in range(n):\n",
    "    i+=1\n",
    "    print('cube of',i,'\\t:',i**3)"
   ]
  },
  {
   "cell_type": "markdown",
   "id": "52252862",
   "metadata": {},
   "source": [
    "***11. check wether given number is prime or not***"
   ]
  },
  {
   "cell_type": "markdown",
   "id": "df36217b",
   "metadata": {},
   "source": [
    "#### n=int(input('enter the number'))\n",
    "if n>1:\n",
    "    for i in range(2,int(n/2)+1):\n",
    "        if (n%i)==0:\n",
    "            print(n,'is not a prime number')\n",
    "            break\n",
    "    else:\n",
    "        print(n,'is a prime number')\n",
    "else:\n",
    "        print(n,'is not a prime number')"
   ]
  },
  {
   "cell_type": "markdown",
   "id": "59ee8657",
   "metadata": {},
   "source": [
    "***12. list of prime numbers from 1 to 100***"
   ]
  },
  {
   "cell_type": "code",
   "execution_count": 1,
   "id": "07d11c1c",
   "metadata": {},
   "outputs": [
    {
     "name": "stdout",
     "output_type": "stream",
     "text": [
      "list of prime number from 1 to 100:\n",
      "2\n",
      "3\n",
      "5\n",
      "7\n",
      "11\n",
      "13\n",
      "17\n",
      "19\n",
      "23\n",
      "29\n",
      "31\n",
      "37\n",
      "41\n",
      "43\n",
      "47\n",
      "53\n",
      "59\n",
      "61\n",
      "67\n",
      "71\n",
      "73\n",
      "79\n",
      "83\n",
      "89\n",
      "97\n"
     ]
    }
   ],
   "source": [
    "print('list of prime number from 1 to 100:')\n",
    "for n in range(1,101):\n",
    "    c=0\n",
    "    for i in range(2,(n//2+1)):\n",
    "        if(n%i==0):\n",
    "         c=c+1\n",
    "         break\n",
    "        \n",
    "    if(c==0 and n>1):\n",
    "        print(n)"
   ]
  },
  {
   "cell_type": "code",
   "execution_count": null,
   "id": "ab16126f",
   "metadata": {},
   "outputs": [],
   "source": []
  },
  {
   "cell_type": "code",
   "execution_count": null,
   "id": "66fc3592",
   "metadata": {},
   "outputs": [],
   "source": []
  }
 ],
 "metadata": {
  "kernelspec": {
   "display_name": "Python 3 (ipykernel)",
   "language": "python",
   "name": "python3"
  },
  "language_info": {
   "codemirror_mode": {
    "name": "ipython",
    "version": 3
   },
   "file_extension": ".py",
   "mimetype": "text/x-python",
   "name": "python",
   "nbconvert_exporter": "python",
   "pygments_lexer": "ipython3",
   "version": "3.9.12"
  }
 },
 "nbformat": 4,
 "nbformat_minor": 5
}
