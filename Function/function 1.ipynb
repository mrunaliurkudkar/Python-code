{
 "cells": [
  {
   "cell_type": "markdown",
   "id": "59f7255e",
   "metadata": {},
   "source": [
    "***write a functions to find the max of three numbers.***"
   ]
  },
  {
   "cell_type": "code",
   "execution_count": null,
   "id": "77a50e28",
   "metadata": {},
   "outputs": [],
   "source": [
    "def max(x,y):\n",
    "    if x>y:\n",
    "        return x\n",
    "    return y\n",
    "def maximum(x,y,z):\n",
    "    return max(x,max(y,z))\n",
    "print('max number is', maximum(9,7,2))"
   ]
  },
  {
   "cell_type": "markdown",
   "id": "1c8ece22",
   "metadata": {},
   "source": [
    "***write a function to sum all the number in a list***"
   ]
  },
  {
   "cell_type": "code",
   "execution_count": null,
   "id": "200f00f4",
   "metadata": {},
   "outputs": [],
   "source": [
    "list=[12,13,14,16]\n",
    "total=sum(list)\n",
    "print('sum of all elements is:',total)"
   ]
  },
  {
   "cell_type": "markdown",
   "id": "1f206f62",
   "metadata": {},
   "source": [
    "***write a function to multiply all the numbers in a list***"
   ]
  },
  {
   "cell_type": "code",
   "execution_count": null,
   "id": "f49666c7",
   "metadata": {},
   "outputs": [],
   "source": [
    "from operator import *\n",
    "list=[1,2,3,4]\n",
    "m=1\n",
    "for i in list:\n",
    "    m=mul(i,m)\n",
    "print(m)"
   ]
  },
  {
   "cell_type": "markdown",
   "id": "3291ba98",
   "metadata": {},
   "source": [
    "***write a function to reverse string***"
   ]
  },
  {
   "cell_type": "code",
   "execution_count": null,
   "id": "7b4c2e99",
   "metadata": {},
   "outputs": [],
   "source": [
    "def reverse(string):\n",
    "    string = string[::-1]\n",
    "    return string\n",
    "s='welcome'\n",
    "\n",
    "print('original string is:',end='')\n",
    "print(s)\n",
    "print('reverse string:',end='')\n",
    "print(reverse(s))"
   ]
  },
  {
   "cell_type": "markdown",
   "id": "f3c033b0",
   "metadata": {},
   "source": [
    "***write a function to calculate the factorial of a number***"
   ]
  },
  {
   "cell_type": "code",
   "execution_count": null,
   "id": "9dea5021",
   "metadata": {},
   "outputs": [],
   "source": [
    "def factorial(n):\n",
    "    res=1\n",
    "    for i in range(2,n+1):\n",
    "        res *=i\n",
    "    return res\n",
    "num=5;\n",
    "print('factorial is',num,':',factorial(num))\n"
   ]
  },
  {
   "cell_type": "markdown",
   "id": "187ae107",
   "metadata": {},
   "source": [
    "***write a function that accept a string and calculte the number ofupper case letters and lower case letters***"
   ]
  },
  {
   "cell_type": "code",
   "execution_count": null,
   "id": "90e36126",
   "metadata": {},
   "outputs": [],
   "source": [
    " s='Welcome'\n",
    "lower=0\n",
    "upper=0\n",
    "for i in s:\n",
    "    if(i.islower()):\n",
    "        lower+=1\n",
    "    else:\n",
    "        upper+=1\n",
    "print('number of lowercase letter is:',lower)\n",
    "print('number of uppercase letter is:',upper)"
   ]
  },
  {
   "cell_type": "markdown",
   "id": "4b46b7bb",
   "metadata": {},
   "source": [
    "***write a function that takes a list and return a new list with unique elements of the first list***"
   ]
  },
  {
   "cell_type": "code",
   "execution_count": 3,
   "id": "4e7fd148",
   "metadata": {},
   "outputs": [
    {
     "name": "stdout",
     "output_type": "stream",
     "text": [
      "enter the element:1 2 3 4 5 2 1 6 7 \n",
      "list: ['1', '2', '3', '4', '5', '2', '1', '6', '7']\n",
      "unique element: ['1', '2', '3', '4', '5', '6', '7']\n"
     ]
    }
   ],
   "source": [
    "def unique(n):\n",
    "    l=[]\n",
    "    print('list:',n)\n",
    "    for i in n:\n",
    "        if i not in l:\n",
    "            l.append(i)\n",
    "    print('unique element:',l)\n",
    "    \n",
    "num=input('enter the element:').split()\n",
    "unique(num)"
   ]
  },
  {
   "cell_type": "code",
   "execution_count": null,
   "id": "ca951423",
   "metadata": {},
   "outputs": [],
   "source": []
  }
 ],
 "metadata": {
  "kernelspec": {
   "display_name": "Python 3 (ipykernel)",
   "language": "python",
   "name": "python3"
  },
  "language_info": {
   "codemirror_mode": {
    "name": "ipython",
    "version": 3
   },
   "file_extension": ".py",
   "mimetype": "text/x-python",
   "name": "python",
   "nbconvert_exporter": "python",
   "pygments_lexer": "ipython3",
   "version": "3.9.12"
  }
 },
 "nbformat": 4,
 "nbformat_minor": 5
}
