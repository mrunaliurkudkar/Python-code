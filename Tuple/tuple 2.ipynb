{
 "cells": [
  {
   "cell_type": "markdown",
   "id": "0cf35000",
   "metadata": {},
   "source": [
    "***program to convert a list to a tuple***"
   ]
  },
  {
   "cell_type": "code",
   "execution_count": 1,
   "id": "6cb0836d",
   "metadata": {},
   "outputs": [
    {
     "name": "stdout",
     "output_type": "stream",
     "text": [
      "enter the number1 2 3 4 5 6 7\n",
      "['1', '2', '3', '4', '5', '6', '7']\n",
      "<class 'list'>\n",
      "('1', '2', '3', '4', '5', '6', '7')\n",
      "<class 'tuple'>\n"
     ]
    }
   ],
   "source": [
    "n=list(input('enter the number').split())\n",
    "def convert(x):\n",
    "    print(x)\n",
    "    print(type(x))\n",
    "    t=tuple(x)\n",
    "    print(t)\n",
    "    print(type(t))\n",
    "convert(n)"
   ]
  },
  {
   "cell_type": "markdown",
   "id": "a458c69a",
   "metadata": {},
   "source": [
    "***program to slice a tuple***"
   ]
  },
  {
   "cell_type": "code",
   "execution_count": 2,
   "id": "5e81546c",
   "metadata": {},
   "outputs": [
    {
     "name": "stdout",
     "output_type": "stream",
     "text": [
      "enter items in tuple1 2 3 4 5 6 7 8 9\n",
      "('1', '2', '3', '4', '5', '6', '7', '8', '9')\n",
      "('4', '5')\n"
     ]
    }
   ],
   "source": [
    "n=tuple(input('enter items in tuple').split())\n",
    "print(n)\n",
    "print(n[3:5])"
   ]
  },
  {
   "cell_type": "markdown",
   "id": "f8c98144",
   "metadata": {},
   "source": [
    "***program to find the repeated items of a tuple***"
   ]
  },
  {
   "cell_type": "code",
   "execution_count": 3,
   "id": "e4345e3c",
   "metadata": {},
   "outputs": [
    {
     "name": "stdout",
     "output_type": "stream",
     "text": [
      "enter tuple items:1 2 3 4 2 1 6 7 8 \n",
      "('1', '2', '3', '4', '2', '1', '6', '7', '8')\n",
      "repeated elements are:\n",
      "('1', '2')\n"
     ]
    }
   ],
   "source": [
    "a=tuple(input('enter tuple items:').split())\n",
    "print(a)\n",
    "\n",
    "def tup(n):\n",
    "    m=[]\n",
    "    print('repeated elements are:')\n",
    "    for i in n:\n",
    "        if n.count(i)>1:\n",
    "            m.append(i)\n",
    "    b=set(m)\n",
    "    print(tuple(b))\n",
    "tup(a)"
   ]
  },
  {
   "cell_type": "markdown",
   "id": "fcc204fb",
   "metadata": {},
   "source": [
    "***program to check wheather an element exists within a tuple***"
   ]
  },
  {
   "cell_type": "code",
   "execution_count": 4,
   "id": "19f5d00a",
   "metadata": {},
   "outputs": [
    {
     "name": "stdout",
     "output_type": "stream",
     "text": [
      "enter items of tuple:12 34 56 78 31 98\n",
      "('12', '34', '56', '78', '31', '98')\n",
      "enter element you want to check:34\n",
      "34 exist in tuple\n"
     ]
    }
   ],
   "source": [
    "n=tuple(input('enter items of tuple:').split())\n",
    "print(n)\n",
    "m=input('enter element you want to check:')\n",
    "def exist(x,y):\n",
    "    if y in x:\n",
    "        print(y,'exist in tuple')\n",
    "    else:\n",
    "        print(y,'does not exist')\n",
    "exist(n,m)\n",
    "        "
   ]
  },
  {
   "cell_type": "markdown",
   "id": "cba67c6b",
   "metadata": {},
   "source": [
    "***program to convert a list to a tuple***"
   ]
  },
  {
   "cell_type": "code",
   "execution_count": 5,
   "id": "b0fb817c",
   "metadata": {},
   "outputs": [
    {
     "name": "stdout",
     "output_type": "stream",
     "text": [
      "enter items in tuple1 2 3 4 5 6 7 8 9\n",
      "('1', '2', '3', '4', '5', '6', '7', '8', '9')\n",
      "enter element you want to remove:5\n",
      "('1', '2', '3', '4', '6', '7', '8', '9')\n"
     ]
    }
   ],
   "source": [
    "n=tuple(input('enter items in tuple').split())\n",
    "print(n)\n",
    "m=input('enter element you want to remove:')\n",
    "def rem(x,o):\n",
    "    y=list(x)\n",
    "    y.remove(o)\n",
    "    x=tuple(y)\n",
    "    print(x)\n",
    "rem(n,m)"
   ]
  },
  {
   "cell_type": "markdown",
   "id": "20a9b715",
   "metadata": {},
   "source": [
    "***program to find the index of an item of a tuple***"
   ]
  },
  {
   "cell_type": "code",
   "execution_count": 6,
   "id": "de799f25",
   "metadata": {},
   "outputs": [
    {
     "name": "stdout",
     "output_type": "stream",
     "text": [
      "enter items in tuple:1 2 3 4 5 6 7 8 \n",
      "('1', '2', '3', '4', '5', '6', '7', '8')\n",
      "enter element you want to index of:3\n",
      "index of 3 is: 2\n"
     ]
    }
   ],
   "source": [
    "n=tuple(input('enter items in tuple:').split())\n",
    "print(n)\n",
    "m=input('enter element you want to index of:')\n",
    "def find(x,y):\n",
    "    if y in x:\n",
    "        a=x.index(y)\n",
    "        print('index of',y,'is:',a)\n",
    "    else:\n",
    "        print('no such element is present')\n",
    "find(n,m)"
   ]
  },
  {
   "cell_type": "markdown",
   "id": "082c7687",
   "metadata": {},
   "source": [
    "***program to print length of a tuple***"
   ]
  },
  {
   "cell_type": "code",
   "execution_count": 7,
   "id": "fc0eb6bd",
   "metadata": {},
   "outputs": [
    {
     "name": "stdout",
     "output_type": "stream",
     "text": [
      "enter items in tuple:1 2 3 4 5 6\n",
      "('1', '2', '3', '4', '5', '6')\n",
      "length of tuple is: 6\n"
     ]
    }
   ],
   "source": [
    "n=tuple(input('enter items in tuple:').split())\n",
    "print(n)\n",
    "print('length of tuple is:',len(n))\n"
   ]
  },
  {
   "cell_type": "markdown",
   "id": "4758a579",
   "metadata": {},
   "source": [
    "***program to convert a tuple to a dictionary***"
   ]
  },
  {
   "cell_type": "code",
   "execution_count": 8,
   "id": "c9995a5a",
   "metadata": {},
   "outputs": [
    {
     "name": "stdout",
     "output_type": "stream",
     "text": [
      "((1, 'ram'), (2, 'sita'), (3, 'karan'))\n",
      "{1: 'ram', 2: 'sita', 3: 'karan'}\n",
      "<class 'dict'>\n"
     ]
    }
   ],
   "source": [
    "n=((1,'ram'),(2,'sita'),(3,'karan'))\n",
    "print(n)\n",
    "d=dict()\n",
    "for key,value in n:\n",
    "    d[key]=value\n",
    "print(d)\n",
    "print(type(d))"
   ]
  },
  {
   "cell_type": "code",
   "execution_count": null,
   "id": "6e7b1912",
   "metadata": {},
   "outputs": [],
   "source": []
  }
 ],
 "metadata": {
  "kernelspec": {
   "display_name": "Python 3 (ipykernel)",
   "language": "python",
   "name": "python3"
  },
  "language_info": {
   "codemirror_mode": {
    "name": "ipython",
    "version": 3
   },
   "file_extension": ".py",
   "mimetype": "text/x-python",
   "name": "python",
   "nbconvert_exporter": "python",
   "pygments_lexer": "ipython3",
   "version": "3.9.12"
  }
 },
 "nbformat": 4,
 "nbformat_minor": 5
}
