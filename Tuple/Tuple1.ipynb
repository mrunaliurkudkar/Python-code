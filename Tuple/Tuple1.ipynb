{
 "cells": [
  {
   "cell_type": "markdown",
   "id": "4a23912c",
   "metadata": {},
   "source": [
    "***program to create a tuple***"
   ]
  },
  {
   "cell_type": "code",
   "execution_count": 3,
   "id": "ab019d9b",
   "metadata": {},
   "outputs": [
    {
     "name": "stdout",
     "output_type": "stream",
     "text": [
      "enter the number3421987\n",
      "('3', '4', '2', '1', '9', '8', '7')\n",
      "<class 'tuple'>\n"
     ]
    }
   ],
   "source": [
    "a=tuple(input('enter the number'))\n",
    "print(a)\n",
    "print(type(a))"
   ]
  },
  {
   "cell_type": "markdown",
   "id": "20a565e6",
   "metadata": {},
   "source": [
    "***program to create tuple with different data types***"
   ]
  },
  {
   "cell_type": "code",
   "execution_count": 5,
   "id": "faf89b2a",
   "metadata": {},
   "outputs": [
    {
     "name": "stdout",
     "output_type": "stream",
     "text": [
      "('divya', 4.23, 9, False)\n",
      "<class 'tuple'>\n"
     ]
    }
   ],
   "source": [
    "t=('divya',4.23,9,False)\n",
    "print(t)\n",
    "print(type(t))"
   ]
  },
  {
   "cell_type": "markdown",
   "id": "59ee9bfd",
   "metadata": {},
   "source": [
    "***program to create tuple with numbers and print one item***"
   ]
  },
  {
   "cell_type": "code",
   "execution_count": 7,
   "id": "d36ec2d8",
   "metadata": {},
   "outputs": [
    {
     "name": "stdout",
     "output_type": "stream",
     "text": [
      "enter the number45678912\n",
      "('4', '5', '6', '7', '8', '9', '1', '2')\n",
      "any one integer item  7\n"
     ]
    }
   ],
   "source": [
    "a=tuple(input('enter the number'))\n",
    "print(a)\n",
    "print('any one integer item ',int(a[3]))"
   ]
  },
  {
   "cell_type": "markdown",
   "id": "4cfbd4db",
   "metadata": {},
   "source": [
    "***program to add an item in tuple***"
   ]
  },
  {
   "cell_type": "code",
   "execution_count": 10,
   "id": "ce2be1ff",
   "metadata": {},
   "outputs": [
    {
     "name": "stdout",
     "output_type": "stream",
     "text": [
      "(8, 5, 3, 1, 9)\n"
     ]
    }
   ],
   "source": [
    "t=(8,5,3,1,9)\n",
    "t1=t+(6,)\n",
    "print(t)"
   ]
  },
  {
   "cell_type": "markdown",
   "id": "99441cff",
   "metadata": {},
   "source": [
    "***program to convert tuple to a string***"
   ]
  },
  {
   "cell_type": "code",
   "execution_count": 11,
   "id": "4396d52d",
   "metadata": {},
   "outputs": [
    {
     "name": "stdout",
     "output_type": "stream",
     "text": [
      "enter the number5678329\n",
      "('5', '6', '7', '8', '3', '2', '9')\n",
      "<class 'tuple'>\n",
      "('5', '6', '7', '8', '3', '2', '9')\n",
      "<class 'str'>\n"
     ]
    }
   ],
   "source": [
    "t=tuple(input('enter the number'))\n",
    "print(t)\n",
    "print(type(t))\n",
    "s=str(t)\n",
    "print(s)\n",
    "print(type(s))"
   ]
  },
  {
   "cell_type": "markdown",
   "id": "2dfb5730",
   "metadata": {},
   "source": [
    "***program to get 4th element from first and last of tuple***"
   ]
  },
  {
   "cell_type": "code",
   "execution_count": 13,
   "id": "9f695a93",
   "metadata": {},
   "outputs": [
    {
     "name": "stdout",
     "output_type": "stream",
     "text": [
      "enter the number123456789\n",
      "('1', '2', '3', '4', '5', '6', '7', '8', '9')\n",
      "4th element from first 4\n",
      "4th element from last 6\n"
     ]
    }
   ],
   "source": [
    "t=tuple(input('enter the number'))\n",
    "print(t)\n",
    "print('4th element from first',t[3])\n",
    "print('4th element from last',t[-4])"
   ]
  },
  {
   "cell_type": "code",
   "execution_count": null,
   "id": "185fb81b",
   "metadata": {},
   "outputs": [],
   "source": []
  }
 ],
 "metadata": {
  "kernelspec": {
   "display_name": "Python 3 (ipykernel)",
   "language": "python",
   "name": "python3"
  },
  "language_info": {
   "codemirror_mode": {
    "name": "ipython",
    "version": 3
   },
   "file_extension": ".py",
   "mimetype": "text/x-python",
   "name": "python",
   "nbconvert_exporter": "python",
   "pygments_lexer": "ipython3",
   "version": "3.9.12"
  }
 },
 "nbformat": 4,
 "nbformat_minor": 5
}
