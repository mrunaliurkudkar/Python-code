{
 "cells": [
  {
   "cell_type": "markdown",
   "id": "17baf089",
   "metadata": {},
   "source": [
    "***program to sum all the items in a list***"
   ]
  },
  {
   "cell_type": "code",
   "execution_count": 1,
   "id": "b60a241d",
   "metadata": {},
   "outputs": [
    {
     "name": "stdout",
     "output_type": "stream",
     "text": [
      "10\n"
     ]
    }
   ],
   "source": [
    "x=[1,2,3,4]\n",
    "print(sum(x))"
   ]
  },
  {
   "cell_type": "markdown",
   "id": "5f23e727",
   "metadata": {},
   "source": [
    "***program to multiply all the items in a list***"
   ]
  },
  {
   "cell_type": "code",
   "execution_count": 2,
   "id": "87a7c86a",
   "metadata": {},
   "outputs": [
    {
     "name": "stdout",
     "output_type": "stream",
     "text": [
      "[20, 40, 60, 80]\n"
     ]
    }
   ],
   "source": [
    "list=[2,4,6,8]\n",
    "result= [item * 10 for item in list]\n",
    "print(result)"
   ]
  },
  {
   "cell_type": "markdown",
   "id": "c51dc539",
   "metadata": {},
   "source": [
    "***program to get the largest number from list***"
   ]
  },
  {
   "cell_type": "code",
   "execution_count": 3,
   "id": "52e051b0",
   "metadata": {},
   "outputs": [
    {
     "data": {
      "text/plain": [
       "93"
      ]
     },
     "execution_count": 3,
     "metadata": {},
     "output_type": "execute_result"
    }
   ],
   "source": [
    "list=[23,45,87,93]\n",
    "max(list)"
   ]
  },
  {
   "cell_type": "markdown",
   "id": "ec04fb93",
   "metadata": {},
   "source": [
    "***program to get the smalles number from list***"
   ]
  },
  {
   "cell_type": "code",
   "execution_count": 4,
   "id": "beaac76b",
   "metadata": {},
   "outputs": [
    {
     "data": {
      "text/plain": [
       "9"
      ]
     },
     "execution_count": 4,
     "metadata": {},
     "output_type": "execute_result"
    }
   ],
   "source": [
    "list=[34,56,21,9]\n",
    "min(list)"
   ]
  },
  {
   "cell_type": "markdown",
   "id": "d58a2166",
   "metadata": {},
   "source": [
    "***count the number of the string***"
   ]
  },
  {
   "cell_type": "code",
   "execution_count": 5,
   "id": "41de37be",
   "metadata": {},
   "outputs": [
    {
     "name": "stdout",
     "output_type": "stream",
     "text": [
      "3\n"
     ]
    }
   ],
   "source": [
    "x=[31,34,57,65,31,54,31]\n",
    "print(x.count(31))\n"
   ]
  },
  {
   "cell_type": "markdown",
   "id": "69b724dc",
   "metadata": {},
   "source": [
    "***program to remove duplicates from list***"
   ]
  },
  {
   "cell_type": "code",
   "execution_count": 6,
   "id": "05058cab",
   "metadata": {},
   "outputs": [
    {
     "name": "stdout",
     "output_type": "stream",
     "text": [
      "{65, 34, 54, 57, 31}\n"
     ]
    }
   ],
   "source": [
    "x=[31,34,57,65,31,54,31]\n",
    "print(set(x))"
   ]
  },
  {
   "cell_type": "code",
   "execution_count": null,
   "id": "b7e8fd19",
   "metadata": {},
   "outputs": [],
   "source": []
  }
 ],
 "metadata": {
  "kernelspec": {
   "display_name": "Python 3 (ipykernel)",
   "language": "python",
   "name": "python3"
  },
  "language_info": {
   "codemirror_mode": {
    "name": "ipython",
    "version": 3
   },
   "file_extension": ".py",
   "mimetype": "text/x-python",
   "name": "python",
   "nbconvert_exporter": "python",
   "pygments_lexer": "ipython3",
   "version": "3.9.12"
  }
 },
 "nbformat": 4,
 "nbformat_minor": 5
}
