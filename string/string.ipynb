{
 "cells": [
  {
   "cell_type": "markdown",
   "id": "503e8306",
   "metadata": {},
   "source": [
    "***calculate length of string.***"
   ]
  },
  {
   "cell_type": "code",
   "execution_count": 1,
   "id": "5acfcd8d",
   "metadata": {},
   "outputs": [],
   "source": [
    "s='python is programming language.'"
   ]
  },
  {
   "cell_type": "code",
   "execution_count": 2,
   "id": "e53639f8",
   "metadata": {},
   "outputs": [
    {
     "data": {
      "text/plain": [
       "31"
      ]
     },
     "execution_count": 2,
     "metadata": {},
     "output_type": "execute_result"
    }
   ],
   "source": [
    "len(s)"
   ]
  },
  {
   "cell_type": "markdown",
   "id": "8958a1ee",
   "metadata": {},
   "source": [
    "***write the input in upper and lower case.***"
   ]
  },
  {
   "cell_type": "code",
   "execution_count": 3,
   "id": "4e83b3c8",
   "metadata": {},
   "outputs": [],
   "source": [
    "s='Python is programming language.'"
   ]
  },
  {
   "cell_type": "code",
   "execution_count": 4,
   "id": "50fa7cb8",
   "metadata": {},
   "outputs": [
    {
     "name": "stdout",
     "output_type": "stream",
     "text": [
      "python is programming language.\n"
     ]
    }
   ],
   "source": [
    "print(s.lower())"
   ]
  },
  {
   "cell_type": "code",
   "execution_count": 5,
   "id": "0fda8631",
   "metadata": {},
   "outputs": [
    {
     "name": "stdout",
     "output_type": "stream",
     "text": [
      "PYTHON IS PROGRAMMING LANGUAGE.\n"
     ]
    }
   ],
   "source": [
    "print(s.upper())"
   ]
  },
  {
   "cell_type": "markdown",
   "id": "c524b48d",
   "metadata": {},
   "source": [
    "***count the no of characters***"
   ]
  },
  {
   "cell_type": "code",
   "execution_count": 6,
   "id": "969d1b28",
   "metadata": {},
   "outputs": [
    {
     "name": "stdout",
     "output_type": "stream",
     "text": [
      "2\n"
     ]
    }
   ],
   "source": [
    "s='python is programming language.'\n",
    "count=s.count('r')\n",
    "print(count)"
   ]
  },
  {
   "cell_type": "markdown",
   "id": "c169b357",
   "metadata": {},
   "source": [
    "***check whether a given string is palindrom or not***"
   ]
  },
  {
   "cell_type": "code",
   "execution_count": 7,
   "id": "863466bd",
   "metadata": {},
   "outputs": [
    {
     "name": "stdout",
     "output_type": "stream",
     "text": [
      "dad\n",
      "palindrome\n"
     ]
    }
   ],
   "source": [
    "n=input()\n",
    "p=n[::-1]\n",
    "if n==p:\n",
    "    print('palindrome')\n",
    "else:\n",
    "    print('not palindrome')"
   ]
  }
 ],
 "metadata": {
  "kernelspec": {
   "display_name": "Python 3 (ipykernel)",
   "language": "python",
   "name": "python3"
  },
  "language_info": {
   "codemirror_mode": {
    "name": "ipython",
    "version": 3
   },
   "file_extension": ".py",
   "mimetype": "text/x-python",
   "name": "python",
   "nbconvert_exporter": "python",
   "pygments_lexer": "ipython3",
   "version": "3.9.12"
  }
 },
 "nbformat": 4,
 "nbformat_minor": 5
}
