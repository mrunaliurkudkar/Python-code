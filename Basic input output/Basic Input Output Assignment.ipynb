{
 "cells": [
  {
   "cell_type": "markdown",
   "id": "c5450f15",
   "metadata": {},
   "source": [
    "### Self Introduction"
   ]
  },
  {
   "cell_type": "code",
   "execution_count": 2,
   "id": "6b581347",
   "metadata": {},
   "outputs": [],
   "source": [
    "firstVarName = 'mrunali'"
   ]
  },
  {
   "cell_type": "code",
   "execution_count": 2,
   "id": "326887a7",
   "metadata": {
    "scrolled": true
   },
   "outputs": [
    {
     "name": "stdout",
     "output_type": "stream",
     "text": [
      "mrunali\n"
     ]
    }
   ],
   "source": [
    "print(firstVarName)"
   ]
  },
  {
   "cell_type": "markdown",
   "id": "98d93c24",
   "metadata": {},
   "source": [
    "### Addition"
   ]
  },
  {
   "cell_type": "code",
   "execution_count": 3,
   "id": "ffff7328",
   "metadata": {},
   "outputs": [
    {
     "name": "stdout",
     "output_type": "stream",
     "text": [
      "addition 10\n"
     ]
    }
   ],
   "source": [
    "a=4\n",
    "b=6\n",
    "c=a+b\n",
    "print('addition', c )"
   ]
  },
  {
   "cell_type": "markdown",
   "id": "7486434b",
   "metadata": {},
   "source": [
    "### Substraction"
   ]
  },
  {
   "cell_type": "code",
   "execution_count": 4,
   "id": "5454f866",
   "metadata": {},
   "outputs": [
    {
     "name": "stdout",
     "output_type": "stream",
     "text": [
      "substration 2\n"
     ]
    }
   ],
   "source": [
    "a=9\n",
    "b=7\n",
    "c=a-b\n",
    "print('substration', c )"
   ]
  },
  {
   "cell_type": "markdown",
   "id": "b7ac603c",
   "metadata": {},
   "source": [
    "### Multiplication"
   ]
  },
  {
   "cell_type": "code",
   "execution_count": 5,
   "id": "00fc01f6",
   "metadata": {},
   "outputs": [
    {
     "name": "stdout",
     "output_type": "stream",
     "text": [
      "multiplication 12\n"
     ]
    }
   ],
   "source": [
    "a=4\n",
    "b=3\n",
    "c=a*b\n",
    "print('multiplication', c)"
   ]
  },
  {
   "cell_type": "markdown",
   "id": "aa9597dc",
   "metadata": {},
   "source": [
    "### Division"
   ]
  },
  {
   "cell_type": "code",
   "execution_count": 6,
   "id": "cc30c02a",
   "metadata": {},
   "outputs": [
    {
     "name": "stdout",
     "output_type": "stream",
     "text": [
      "division 6.0\n"
     ]
    }
   ],
   "source": [
    "a=12\n",
    "b=2\n",
    "c=a/b\n",
    "print('division', c )"
   ]
  },
  {
   "cell_type": "markdown",
   "id": "c3a098a7",
   "metadata": {},
   "source": [
    "### Exponent"
   ]
  },
  {
   "cell_type": "code",
   "execution_count": 7,
   "id": "04855cdd",
   "metadata": {},
   "outputs": [
    {
     "name": "stdout",
     "output_type": "stream",
     "text": [
      "exponent 9\n"
     ]
    }
   ],
   "source": [
    "a=3\n",
    "b=2\n",
    "c=a**b\n",
    "print('exponent',c)"
   ]
  },
  {
   "cell_type": "markdown",
   "id": "5b44e254",
   "metadata": {},
   "source": [
    "### Modulus"
   ]
  },
  {
   "cell_type": "code",
   "execution_count": 10,
   "id": "b63ca5ff",
   "metadata": {},
   "outputs": [
    {
     "name": "stdout",
     "output_type": "stream",
     "text": [
      "modulus 1\n"
     ]
    }
   ],
   "source": [
    "a=16\n",
    "b=3\n",
    "c=a%b\n",
    "print('modulus', c)"
   ]
  }
 ],
 "metadata": {
  "kernelspec": {
   "display_name": "Python 3 (ipykernel)",
   "language": "python",
   "name": "python3"
  },
  "language_info": {
   "codemirror_mode": {
    "name": "ipython",
    "version": 3
   },
   "file_extension": ".py",
   "mimetype": "text/x-python",
   "name": "python",
   "nbconvert_exporter": "python",
   "pygments_lexer": "ipython3",
   "version": "3.9.12"
  }
 },
 "nbformat": 4,
 "nbformat_minor": 5
}
